{
 "cells": [
  {
   "cell_type": "code",
   "execution_count": 76,
   "id": "3b035aa1",
   "metadata": {},
   "outputs": [],
   "source": [
    "from langgraph.prebuilt import create_react_agent\n",
    "from langgraph.graph import StateGraph\n",
    "import networkx as nx\n",
    "import matplotlib.pyplot as plt\n",
    "import requests"
   ]
  },
  {
   "cell_type": "code",
   "execution_count": 77,
   "id": "07d556d7",
   "metadata": {},
   "outputs": [],
   "source": [
    "def LLM(text):\n",
    "    return \"LLM Response\" + text"
   ]
  },
  {
   "cell_type": "code",
   "execution_count": 78,
   "id": "6ec00f0a",
   "metadata": {},
   "outputs": [],
   "source": [
    "def calculator(query):\n",
    "    try:\n",
    "        result = eval(query,{\"__builtins__\": None},{})\n",
    "        return f\"The result is: {result}\"\n",
    "    except Exception as e:\n",
    "        return f\"Error: {str(e)}\""
   ]
  },
  {
   "cell_type": "code",
   "execution_count": 79,
   "id": "a8d63fe2",
   "metadata": {},
   "outputs": [],
   "source": [
    "def chatbot_node(text):\n",
    "    if any(op in text for i in \"+-*/\"):\n",
    "        return calculator(text)\n",
    "    else:\n",
    "        return LLM(text)"
   ]
  },
  {
   "cell_type": "code",
   "execution_count": 80,
   "id": "066e2820",
   "metadata": {},
   "outputs": [],
   "source": [
    "workflow = StateGraph(\"WeatherMind\")\n",
    "workflow.add_node(\"chatbot\",chatbot_node)\n",
    "workflow.set_entry_point(\"chatbot\")\n",
    "Weather = workflow.compile()"
   ]
  },
  {
   "cell_type": "code",
   "execution_count": 81,
   "id": "a4ee9838",
   "metadata": {},
   "outputs": [
    {
     "data": {
      "text/plain": [
       "Text(0.5, 1.0, 'Weather Workflow')"
      ]
     },
     "execution_count": 81,
     "metadata": {},
     "output_type": "execute_result"
    },
    {
     "data": {
      "image/png": "[encoded data removed]",
      "text/plain": [
       "<Figure size 400x400 with 1 Axes>"
      ]
     },
     "metadata": {},
     "output_type": "display_data"
    }
   ],
   "source": [
    "G = nx.DiGraph()\n",
    "G.add_node(\"chatbot\")\n",
    "plt.figure(figsize=(4, 4))\n",
    "nx.draw(G,with_labels=True, node_size=2000, node_color=\"grey\", font_size=16)\n",
    "plt.title(\"Weather Workflow\")"
   ]
  },
  {
   "cell_type": "code",
   "execution_count": 82,
   "id": "0918f41e",
   "metadata": {},
   "outputs": [],
   "source": [
    "def fashion_recommender(query):\n",
    "    if \"in\" in query:\n",
    "        location = query.split(\"in\")[-1].strip().capitalize()\n",
    "    else:\n",
    "        location = \"Unknown Location\"\n",
    "    return f\"Recommended fashion for {location}: Light jacket and jeans.\""
   ]
  },
  {
   "cell_type": "code",
   "execution_count": 83,
   "id": "a29f2cc1",
   "metadata": {},
   "outputs": [],
   "source": [
    "def weather_extractor(query):\n",
    "    if \"in\" in query:\n",
    "        location = query.split(\"in\")[-1].strip().capitalize()\n",
    "    else:\n",
    "        location = \"Unknown Location\"\n",
    "    api_key = \"Not have any API key\"\n",
    "    url = f\"https://api.openweathermap.org/data/2.5/weather?q={location}&appid={api_key}&units=metric\"\n",
    "    try:\n",
    "        response = requests.get(url).json()\n",
    "        temp = response[\"main\"][\"temp\"]\n",
    "        description = response[\"weather\"][0][\"description\"]\n",
    "        return f\"The weather in {location} is {temp}°C with {description}.\"\n",
    "    except :\n",
    "        return \"Could not retrieve weather data. Please check the location.\""
   ]
  },
  {
   "cell_type": "code",
   "execution_count": 84,
   "id": "b829e6a8",
   "metadata": {},
   "outputs": [],
   "source": [
    "def chatbot_node2(text):\n",
    "    if \"weather\" in text.lower():\n",
    "        return weather_extractor(text)\n",
    "    elif \"fashion\" in text.lower():\n",
    "        return fashion_recommender(text)\n",
    "    elif any(op in text for op in \"+-*/\"):\n",
    "        return calculator(text)\n",
    "    else:\n",
    "        return LLM(text)"
   ]
  },
  {
   "cell_type": "code",
   "execution_count": 85,
   "id": "1f8cc05f",
   "metadata": {},
   "outputs": [],
   "source": [
    "workflow = StateGraph(\"WeatherMind2\")\n",
    "workflow.add_node(\"chatbot\", chatbot_node2)\n",
    "workflow.set_entry_point(\"chatbot\")\n",
    "Weather2 = workflow.compile()\n"
   ]
  },
  {
   "cell_type": "code",
   "execution_count": 86,
   "id": "58eb6def",
   "metadata": {},
   "outputs": [],
   "source": [
    "conversation_history = []\n",
    "def chatbot_node3(text):\n",
    "    conversation_history.append(text)\n",
    "    if \"weather\" in text.lower():\n",
    "        response = weather_extractor(text)\n",
    "    elif \"fashion\" in text.lower():\n",
    "        response = fashion_recommender(text)\n",
    "    elif any(op in text for op in \"+-*/\"):\n",
    "        response = calculator(text)\n",
    "    else:\n",
    "        response = LLM(text)\n",
    "    conversation_history.append(response)\n",
    "    return response\n"
   ]
  },
  {
   "cell_type": "code",
   "execution_count": 87,
   "id": "f650cc62",
   "metadata": {},
   "outputs": [],
   "source": [
    "def resercher(query):\n",
    "    if \"weather\" in query.lower():\n",
    "        return weather_extractor(query)\n",
    "    elif \"fashion\" in query.lower():\n",
    "        return fashion_recommender(query)\n",
    "    else:\n",
    "        return \"Researcher: No data Found\""
   ]
  },
  {
   "cell_type": "code",
   "execution_count": 88,
   "id": "b4d1d596",
   "metadata": {},
   "outputs": [],
   "source": [
    "def researcher_agent(query):\n",
    "    if \"weather\" in query:\n",
    "        return weather_extractor(query)\n",
    "    elif \"fashion\" in query or \"trend\" in query:\n",
    "        return fashion_recommender(query)\n",
    "    else:\n",
    "        return \"Researcher: No data found.\""
   ]
  },
  {
   "cell_type": "code",
   "execution_count": 89,
   "id": "9770ae22",
   "metadata": {},
   "outputs": [],
   "source": [
    "def analyst_agent(data):\n",
    "    return f\"Analyst: Here's a summary -> {data}\""
   ]
  },
  {
   "cell_type": "code",
   "execution_count": 90,
   "id": "d8e43b7d",
   "metadata": {},
   "outputs": [],
   "source": [
    "def decision_maker_agent(summary):\n",
    "    return f\"Decision: Based on analysis, I recommend: {summary}\""
   ]
  },
  {
   "cell_type": "code",
   "execution_count": 91,
   "id": "8cc66ac6",
   "metadata": {},
   "outputs": [],
   "source": [
    "def multi_agent_router(query):\n",
    "    research = researcher_agent(query)\n",
    "    analysis = analyst_agent(research)\n",
    "    decision = decision_maker_agent(analysis)\n",
    "    return decision"
   ]
  },
  {
   "cell_type": "code",
   "execution_count": 92,
   "id": "ead58ca5",
   "metadata": {},
   "outputs": [
    {
     "name": "stderr",
     "output_type": "stream",
     "text": [
      "c:\\Users\\pblas\\.conda\\envs\\myenv\\lib\\site-packages\\langgraph\\graph\\state.py:96: UserWarning: Invalid state_schema: WeatherMindMultiAgent. Expected a type or Annotated[type, reducer]. Please provide a valid schema to ensure correct updates.\n",
      " See: https://langchain-ai.github.io/langgraph/reference/graphs/#stategraph\n",
      "  warnings.warn(\n"
     ]
    }
   ],
   "source": [
    "workflow = StateGraph(\"WeatherMindMultiAgent\")\n",
    "workflow.add_node(\"router\", multi_agent_router)\n",
    "workflow.set_entry_point(\"router\")\n",
    "weather_mind_multiagent = workflow.compile()"
   ]
  }
 ],
 "metadata": {
  "kernelspec": {
   "display_name": "Python 3",
   "language": "python",
   "name": "python3"
  },
  "language_info": {
   "codemirror_mode": {
    "name": "ipython",
    "version": 3
   },
   "file_extension": ".py",
   "mimetype": "text/x-python",
   "name": "python",
   "nbconvert_exporter": "python",
   "pygments_lexer": "ipython3",
   "version": "3.10.16"
  }
 },
 "nbformat": 4,
 "nbformat_minor": 5
}
